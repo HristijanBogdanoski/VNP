{
 "cells": [
  {
   "cell_type": "code",
   "execution_count": 25,
   "id": "e9fecade-23b6-4cae-b318-979bfad2e90b",
   "metadata": {},
   "outputs": [],
   "source": [
    "from selenium import webdriver\n",
    "from selenium.webdriver.chrome.service import Service\n",
    "from webdriver_manager.chrome import ChromeDriverManager\n",
    "from selenium.webdriver.common.by import By\n",
    "import time"
   ]
  },
  {
   "cell_type": "code",
   "execution_count": 26,
   "id": "4f1456a8-26e3-421f-ad9e-90dbeb9e9ccf",
   "metadata": {},
   "outputs": [
    {
     "name": "stdout",
     "output_type": "stream",
     "text": [
      "All products | Books to Scrape - Sandbox\n"
     ]
    }
   ],
   "source": [
    "driver = webdriver.Chrome(service=Service(ChromeDriverManager().install()))\n",
    "driver.get(\"https://books.toscrape.com/\")\n",
    "print(driver.title)"
   ]
  },
  {
   "cell_type": "code",
   "execution_count": 27,
   "id": "b3fb09de-8904-49d2-8d00-b287a0071582",
   "metadata": {},
   "outputs": [],
   "source": [
    "categories = driver.find_elements(By.CSS_SELECTOR,\".side_categories ul li a\")\n",
    "links = [(cat.text.strip(),cat.get_attribute(\"href\")) for cat in categories]"
   ]
  },
  {
   "cell_type": "code",
   "execution_count": 28,
   "id": "29ccc37d-09e3-4394-bc0a-539f5a5ddeb9",
   "metadata": {},
   "outputs": [
    {
     "name": "stdout",
     "output_type": "stream",
     "text": [
      "Books A Light in the ... £51.77\n",
      "Books Tipping the Velvet £53.74\n",
      "Books Soumission £50.10\n",
      "Books Sharp Objects £47.82\n",
      "Travel It's Only the Himalayas £45.17\n",
      "Travel Full Moon over Noah’s ... £49.43\n",
      "Travel See America: A Celebration ... £48.87\n",
      "Travel Vagabonding: An Uncommon Guide ... £36.94\n",
      "Mystery Sharp Objects £47.82\n",
      "Mystery In a Dark, Dark ... £19.63\n",
      "Mystery The Past Never Ends £56.50\n",
      "Mystery A Murder in Time £16.64\n",
      "Historical Fiction Tipping the Velvet £53.74\n",
      "Historical Fiction Forever and Forever: The ... £29.69\n",
      "Historical Fiction A Flight of Arrows ... £55.53\n",
      "Historical Fiction The House by the ... £36.95\n",
      "Sequential Art Scott Pilgrim's Precious Little ... £52.29\n",
      "Sequential Art Tsubasa: WoRLD CHRoNiCLE 2 ... £16.28\n",
      "Sequential Art This One Summer £19.49\n",
      "Sequential Art The Nameless City (The ... £38.16\n"
     ]
    }
   ],
   "source": [
    "for name, link in links[:5]:\n",
    "    driver.get(link)\n",
    "    books = driver.find_elements(By.CSS_SELECTOR,\"article.product_pod\")[:4]\n",
    "    for book in books:\n",
    "        title = book.find_element(By.TAG_NAME, \"h3\").text\n",
    "        price = book.find_element(By.CLASS_NAME, \"price_color\").text\n",
    "        print (name,title,price)"
   ]
  },
  {
   "cell_type": "code",
   "execution_count": 29,
   "id": "c2fbb900-0b8e-46d6-b219-53bdf1724494",
   "metadata": {},
   "outputs": [],
   "source": [
    "### https://quotes.toscrape.com/scroll\n",
    "\n",
    "driver = webdriver.Chrome(service=Service(ChromeDriverManager().install()))\n",
    "driver.get(\"https://quotes.toscrape.com/scroll\")"
   ]
  },
  {
   "cell_type": "code",
   "execution_count": 30,
   "id": "ca6a5c7d-9ac9-40e5-9d42-75b4346e3a91",
   "metadata": {},
   "outputs": [],
   "source": [
    "last_height = driver.execute_script(\"return document.body.scrollHeight\")\n",
    "\n",
    "while True:\n",
    "    # Scroll to the bottom\n",
    "    driver.execute_script(\"window.scrollTo(0, document.body.scrollHeight);\")\n",
    "    time.sleep(2)  # wait for new quotes to load\n",
    "\n",
    "    # Calculate new scroll height\n",
    "    new_height = driver.execute_script(\"return document.body.scrollHeight\")\n",
    "\n",
    "    # If height hasn't changed, we've reached the end\n",
    "    if new_height == last_height:\n",
    "        break\n",
    "    last_height = new_height\n"
   ]
  },
  {
   "cell_type": "code",
   "execution_count": 32,
   "id": "e9ead54a-906f-4433-81a6-2d2f00a87b50",
   "metadata": {},
   "outputs": [],
   "source": [
    "quotes_data = []\n",
    "\n",
    "quotes = driver.find_elements(By.CLASS_NAME, \"quote\")\n",
    "\n",
    "for quote in quotes:\n",
    "    text = quote.find_element(By.CLASS_NAME, \"text\").text\n",
    "    author = quote.find_element(By.CLASS_NAME, \"author\").text\n",
    "    tags = [tag.text for tag in quote.find_elements(By.CLASS_NAME,\"tag\")]\n",
    "\n",
    "    quotes_data.append({\n",
    "        \"text\": text,\n",
    "        \"author\": author,\n",
    "        \"tags\":tags\n",
    "    })"
   ]
  },
  {
   "cell_type": "code",
   "execution_count": 35,
   "id": "85ccd693-f8de-4916-a6d1-c6b747be427f",
   "metadata": {},
   "outputs": [
    {
     "name": "stdout",
     "output_type": "stream",
     "text": [
      "{'text': '“The world as we have created it is a process of our thinking. It cannot be changed without changing our thinking.”', 'author': 'Albert Einstein', 'tags': ['change', 'deep-thoughts', 'thinking', 'world']}\n",
      "{'text': '“It is our choices, Harry, that show what we truly are, far more than our abilities.”', 'author': 'J.K. Rowling', 'tags': ['abilities', 'choices']}\n",
      "{'text': '“There are only two ways to live your life. One is as though nothing is a miracle. The other is as though everything is a miracle.”', 'author': 'Albert Einstein', 'tags': ['inspirational', 'life', 'live', 'miracle', 'miracles']}\n",
      "{'text': '“The person, be it gentleman or lady, who has not pleasure in a good novel, must be intolerably stupid.”', 'author': 'Jane Austen', 'tags': ['aliteracy', 'books', 'classic', 'humor']}\n",
      "{'text': \"“Imperfection is beauty, madness is genius and it's better to be absolutely ridiculous than absolutely boring.”\", 'author': 'Marilyn Monroe', 'tags': ['be-yourself', 'inspirational']}\n"
     ]
    }
   ],
   "source": [
    "for q in quotes_data[:5]:\n",
    "    print(q)"
   ]
  },
  {
   "cell_type": "code",
   "execution_count": 39,
   "id": "54c58971-baf3-4114-b2bf-bd487735f6a6",
   "metadata": {},
   "outputs": [],
   "source": [
    "import pandas as pd\n",
    "df = pd.DataFrame(quotes_data)"
   ]
  },
  {
   "cell_type": "code",
   "execution_count": 40,
   "id": "12a8dd78-eaef-4fa4-8127-12d2ee3e2d23",
   "metadata": {},
   "outputs": [
    {
     "data": {
      "text/html": [
       "<div>\n",
       "<style scoped>\n",
       "    .dataframe tbody tr th:only-of-type {\n",
       "        vertical-align: middle;\n",
       "    }\n",
       "\n",
       "    .dataframe tbody tr th {\n",
       "        vertical-align: top;\n",
       "    }\n",
       "\n",
       "    .dataframe thead th {\n",
       "        text-align: right;\n",
       "    }\n",
       "</style>\n",
       "<table border=\"1\" class=\"dataframe\">\n",
       "  <thead>\n",
       "    <tr style=\"text-align: right;\">\n",
       "      <th></th>\n",
       "      <th>text</th>\n",
       "      <th>author</th>\n",
       "      <th>tags</th>\n",
       "    </tr>\n",
       "  </thead>\n",
       "  <tbody>\n",
       "    <tr>\n",
       "      <th>0</th>\n",
       "      <td>“The world as we have created it is a process ...</td>\n",
       "      <td>Albert Einstein</td>\n",
       "      <td>[change, deep-thoughts, thinking, world]</td>\n",
       "    </tr>\n",
       "    <tr>\n",
       "      <th>1</th>\n",
       "      <td>“It is our choices, Harry, that show what we t...</td>\n",
       "      <td>J.K. Rowling</td>\n",
       "      <td>[abilities, choices]</td>\n",
       "    </tr>\n",
       "    <tr>\n",
       "      <th>2</th>\n",
       "      <td>“There are only two ways to live your life. On...</td>\n",
       "      <td>Albert Einstein</td>\n",
       "      <td>[inspirational, life, live, miracle, miracles]</td>\n",
       "    </tr>\n",
       "    <tr>\n",
       "      <th>3</th>\n",
       "      <td>“The person, be it gentleman or lady, who has ...</td>\n",
       "      <td>Jane Austen</td>\n",
       "      <td>[aliteracy, books, classic, humor]</td>\n",
       "    </tr>\n",
       "    <tr>\n",
       "      <th>4</th>\n",
       "      <td>“Imperfection is beauty, madness is genius and...</td>\n",
       "      <td>Marilyn Monroe</td>\n",
       "      <td>[be-yourself, inspirational]</td>\n",
       "    </tr>\n",
       "    <tr>\n",
       "      <th>...</th>\n",
       "      <td>...</td>\n",
       "      <td>...</td>\n",
       "      <td>...</td>\n",
       "    </tr>\n",
       "    <tr>\n",
       "      <th>95</th>\n",
       "      <td>“You never really understand a person until yo...</td>\n",
       "      <td>Harper Lee</td>\n",
       "      <td>[better-life-empathy]</td>\n",
       "    </tr>\n",
       "    <tr>\n",
       "      <th>96</th>\n",
       "      <td>“You have to write the book that wants to be w...</td>\n",
       "      <td>Madeleine L'Engle</td>\n",
       "      <td>[books, children, difficult, grown-ups, write,...</td>\n",
       "    </tr>\n",
       "    <tr>\n",
       "      <th>97</th>\n",
       "      <td>“Never tell the truth to people who are not wo...</td>\n",
       "      <td>Mark Twain</td>\n",
       "      <td>[truth]</td>\n",
       "    </tr>\n",
       "    <tr>\n",
       "      <th>98</th>\n",
       "      <td>“A person's a person, no matter how small.”</td>\n",
       "      <td>Dr. Seuss</td>\n",
       "      <td>[inspirational]</td>\n",
       "    </tr>\n",
       "    <tr>\n",
       "      <th>99</th>\n",
       "      <td>“... a mind needs books as a sword needs a whe...</td>\n",
       "      <td>George R.R. Martin</td>\n",
       "      <td>[books, mind]</td>\n",
       "    </tr>\n",
       "  </tbody>\n",
       "</table>\n",
       "<p>100 rows × 3 columns</p>\n",
       "</div>"
      ],
      "text/plain": [
       "                                                 text              author  \\\n",
       "0   “The world as we have created it is a process ...     Albert Einstein   \n",
       "1   “It is our choices, Harry, that show what we t...        J.K. Rowling   \n",
       "2   “There are only two ways to live your life. On...     Albert Einstein   \n",
       "3   “The person, be it gentleman or lady, who has ...         Jane Austen   \n",
       "4   “Imperfection is beauty, madness is genius and...      Marilyn Monroe   \n",
       "..                                                ...                 ...   \n",
       "95  “You never really understand a person until yo...          Harper Lee   \n",
       "96  “You have to write the book that wants to be w...   Madeleine L'Engle   \n",
       "97  “Never tell the truth to people who are not wo...          Mark Twain   \n",
       "98        “A person's a person, no matter how small.”           Dr. Seuss   \n",
       "99  “... a mind needs books as a sword needs a whe...  George R.R. Martin   \n",
       "\n",
       "                                                 tags  \n",
       "0            [change, deep-thoughts, thinking, world]  \n",
       "1                                [abilities, choices]  \n",
       "2      [inspirational, life, live, miracle, miracles]  \n",
       "3                  [aliteracy, books, classic, humor]  \n",
       "4                        [be-yourself, inspirational]  \n",
       "..                                                ...  \n",
       "95                              [better-life-empathy]  \n",
       "96  [books, children, difficult, grown-ups, write,...  \n",
       "97                                            [truth]  \n",
       "98                                    [inspirational]  \n",
       "99                                      [books, mind]  \n",
       "\n",
       "[100 rows x 3 columns]"
      ]
     },
     "execution_count": 40,
     "metadata": {},
     "output_type": "execute_result"
    }
   ],
   "source": [
    "df"
   ]
  },
  {
   "cell_type": "code",
   "execution_count": 43,
   "id": "455cdf10-c069-4192-8c2c-8c7ba1a2ec3d",
   "metadata": {},
   "outputs": [
    {
     "name": "stdout",
     "output_type": "stream",
     "text": [
      "love             14\n",
      "inspirational    13\n",
      "life             13\n",
      "humor            12\n",
      "books            11\n",
      "reading           7\n",
      "friendship        5\n",
      "friends           4\n",
      "truth             4\n",
      "death             3\n",
      "Name: count, dtype: int64\n"
     ]
    }
   ],
   "source": [
    "all_tags = [tag for tags_list in df[\"tags\"] for tag in tags_list]\n",
    "tag_counts = pd.Series(all_tags).value_counts().head(10)\n",
    "print(tag_counts)"
   ]
  },
  {
   "cell_type": "code",
   "execution_count": 44,
   "id": "3a48e244-df21-4991-9750-6223abf2e8fa",
   "metadata": {},
   "outputs": [
    {
     "data": {
      "image/png": "[encoded data removed]",
      "text/plain": [
       "<Figure size 1000x600 with 1 Axes>"
      ]
     },
     "metadata": {},
     "output_type": "display_data"
    }
   ],
   "source": [
    "import matplotlib.pyplot as plt\n",
    "\n",
    "plt.figure(figsize=(10, 6))\n",
    "tag_counts.plot(kind='bar', edgecolor='black')\n",
    "\n",
    "plt.title(\"Top 10 Most Popular Tags\")\n",
    "plt.xlabel(\"Tags\")\n",
    "plt.ylabel(\"Count\")\n",
    "plt.xticks(rotation=45)\n",
    "plt.tight_layout()\n",
    "plt.show()\n"
   ]
  },
  {
   "cell_type": "code",
   "execution_count": 79,
   "id": "094f9694-d1b8-45b2-a2d7-4002bbed2dbc",
   "metadata": {},
   "outputs": [],
   "source": [
    "##################### GET ALL FILMSSS BY YEARSSSSSSSS https://www.scrapethissite.com/pages/ajax-javascript/\n",
    "from selenium.webdriver.support.ui import WebDriverWait\n",
    "driver = webdriver.Chrome(service=Service(ChromeDriverManager().install()))\n",
    "driver.get(\"https://www.scrapethissite.com/pages/ajax-javascript/\")\n",
    "time.sleep(2)\n",
    "wait = WebDriverWait(driver, 10)"
   ]
  },
  {
   "cell_type": "code",
   "execution_count": 80,
   "id": "e451aaf1-48ad-4ada-8b07-75790ded8d77",
   "metadata": {},
   "outputs": [
    {
     "name": "stdout",
     "output_type": "stream",
     "text": [
      "Scraping year: 2015\n",
      "Scraping year: 2014\n",
      "Scraping year: 2013\n",
      "Scraping year: 2012\n",
      "Scraping year: 2011\n",
      "Scraping year: 2010\n"
     ]
    }
   ],
   "source": [
    "all_movies = []\n",
    "\n",
    "# Loop through all year buttons\n",
    "years = driver.find_elements(By.CSS_SELECTOR, \"a.year-link\")\n",
    "\n",
    "for year_elem in years:\n",
    "    year = year_elem.text.strip()\n",
    "    print(\"Scraping year:\", year)\n",
    "\n",
    "    # Click the year button\n",
    "    year_elem.click()\n",
    "    time.sleep(4)\n",
    "\n",
    "    # Extract all movie rows\n",
    "    rows = driver.find_elements(By.CSS_SELECTOR, \"div.film\")\n",
    "    for row in rows:\n",
    "        title = row.find_element(By.CLASS_NAME, \"film-title\").text\n",
    "        nominations = row.find_element(By.CLASS_NAME, \"film-nominations\").text\n",
    "        awards = row.find_element(By.CLASS_NAME, \"film-awards\").text\n",
    "        best_picture = \"Yes\" in row.find_element(By.CLASS_NAME, \"film-best-picture\").text\n",
    "        all_movies.append({\n",
    "            \"year\": year,\n",
    "            \"title\": title,\n",
    "            \"nominations\": int(nominations),\n",
    "            \"awards\": int(awards),\n",
    "            \"best_picture\": best_picture\n",
    "        })\n"
   ]
  },
  {
   "cell_type": "code",
   "execution_count": 81,
   "id": "16bda363-d76e-411c-867a-bce96d7c45c6",
   "metadata": {},
   "outputs": [
    {
     "name": "stdout",
     "output_type": "stream",
     "text": [
      "Empty DataFrame\n",
      "Columns: []\n",
      "Index: []\n"
     ]
    }
   ],
   "source": [
    "df = pd.DataFrame(all_movies)\n",
    "print(df.head())\n",
    "driver.quit()"
   ]
  },
  {
   "cell_type": "code",
   "execution_count": 88,
   "id": "ba065332-b06c-4510-ab8a-129ad0affa5c",
   "metadata": {},
   "outputs": [
    {
     "name": "stdout",
     "output_type": "stream",
     "text": [
      "                                              title  year  awards  \\\n",
      "0                                 The King's Speech  2010       4   \n",
      "1                                         Inception  2010       4   \n",
      "2                                The Social Network  2010       3   \n",
      "3                                       The Fighter  2010       2   \n",
      "4                                       Toy Story 3  2010       2   \n",
      "..                                              ...   ...     ...   \n",
      "82                                      Bear Story   2015       1   \n",
      "83  A Girl in the River: The Price of Forgiveness    2015       1   \n",
      "84                                      Son of Saul  2015       1   \n",
      "85                                          Spectre  2015       1   \n",
      "86                                      Stutterer    2015       1   \n",
      "\n",
      "    nominations best_picture  \n",
      "0            12         True  \n",
      "1             8          NaN  \n",
      "2             8          NaN  \n",
      "3             7          NaN  \n",
      "4             5          NaN  \n",
      "..          ...          ...  \n",
      "82            1          NaN  \n",
      "83            1          NaN  \n",
      "84            1          NaN  \n",
      "85            1          NaN  \n",
      "86            1          NaN  \n",
      "\n",
      "[87 rows x 5 columns]\n",
      "✅ Scraped 87 movies total\n"
     ]
    }
   ],
   "source": [
    "import requests\n",
    "import pandas as pd\n",
    "\n",
    "all_movies = []\n",
    "years = range(2010, 2017)  # years available on the page\n",
    "\n",
    "for year in years:\n",
    "    url = f\"https://www.scrapethissite.com/pages/ajax-javascript/?ajax=true&year={year}\"\n",
    "    response = requests.get(url)\n",
    "    data = response.json()  # JSON directly from server\n",
    "    for movie in data:\n",
    "        movie[\"year\"] = year\n",
    "        all_movies.append(movie)\n",
    "\n",
    "# Convert to DataFrame\n",
    "df = pd.DataFrame(all_movies)\n",
    "\n",
    "print(df)\n",
    "print(f\"✅ Scraped {len(df)} movies total\")\n"
   ]
  },
  {
   "cell_type": "code",
   "execution_count": null,
   "id": "02928e4b-eab7-41ae-be6c-4aec30a4c5b1",
   "metadata": {},
   "outputs": [],
   "source": []
  }
 ],
 "metadata": {
  "kernelspec": {
   "display_name": "Python [conda env:base] *",
   "language": "python",
   "name": "conda-base-py"
  },
  "language_info": {
   "codemirror_mode": {
    "name": "ipython",
    "version": 3
   },
   "file_extension": ".py",
   "mimetype": "text/x-python",
   "name": "python",
   "nbconvert_exporter": "python",
   "pygments_lexer": "ipython3",
   "version": "3.13.5"
  }
 },
 "nbformat": 4,
 "nbformat_minor": 5
}
